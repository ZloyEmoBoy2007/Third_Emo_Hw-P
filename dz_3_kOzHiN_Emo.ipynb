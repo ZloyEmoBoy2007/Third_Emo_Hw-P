{
  "nbformat": 4,
  "nbformat_minor": 0,
  "metadata": {
    "colab": {
      "provenance": []
    },
    "kernelspec": {
      "name": "python3",
      "display_name": "Python 3"
    },
    "language_info": {
      "name": "python"
    }
  },
  "cells": [
    {
      "cell_type": "code",
      "source": [
        "class Machine:\n",
        " def __init__(self, id, coordinates):\n",
        "  self.id = id\n",
        "  self.coordinates = coordinates\n",
        "  self.state = \"parked\"\n",
        "\n",
        " def move(self, new_coordinates):\n",
        "  self.coordinates = new_coordinates\n",
        " def repair(self):\n",
        "  self.state = \"repairing\"\n",
        "\n",
        "class DrillingMachine(Machine):\n",
        " def drill(self):\n",
        "  print(\"Бурим в\", self.coordinates)\n",
        "\n",
        "class MappingMachine(Machine):\n",
        " def scan(self):\n",
        "  print(\"Сканируем маршрут в\", self.coordinates)\n",
        "\n",
        "class InspectionMachine(Machine):\n",
        " def inspect(self):\n",
        "  print(\"Проверяем крепи в\", self.coordinates)\n",
        "\n",
        "class Support:\n",
        " def __init__(self, type_, wear):\n",
        "  self.type = type_\n",
        "  self.wear = wear\n",
        " def is_worn_out(self):\n",
        "  return self.wear >= 80\n",
        "\n",
        "class Tunnel:\n",
        " def __init__(self, length):\n",
        "  self.length = length\n",
        "  self.supports = []\n",
        "  self.machines = []\n",
        " def add_support(self, support):\n",
        "  self.supports.append(support)\n",
        " def add_machine(self, machine):\n",
        "  self.machines.append(machine)\n",
        "\n",
        "class Controller:\n",
        " def __init__(self):\n",
        "  self.machines = []\n",
        " def send_to_route(self, machine, new_coordinates):\n",
        "  machine.move(new_coordinates)\n",
        "  machine.state = \"on_route\"\n",
        " def send_to_repair(self, machine):\n",
        "  machine.repair()"
      ],
      "metadata": {
        "id": "sl6l6i0V3gZ_"
      },
      "execution_count": 1,
      "outputs": []
    }
  ]
}